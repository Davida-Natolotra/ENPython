{
 "cells": [
  {
   "cell_type": "markdown",
   "id": "cc7b1623",
   "metadata": {},
   "source": [
    "# Solution du test de validation 1: variables, objets, structures de données \n",
    "_____"
   ]
  },
  {
   "cell_type": "markdown",
   "id": "bf8a8feb",
   "metadata": {},
   "source": [
    "Numéro(s) du/des participants:"
   ]
  },
  {
   "cell_type": "markdown",
   "id": "a9c52008",
   "metadata": {},
   "source": [
    "_____\n",
    "## Les nombres\n",
    "\n",
    "##### Rédigez une équation qui utilise multiplication, division, exposant, addition, et soustraction dont le résultat sera 100.25.\n",
    "\n",
    "Conseil: Le but est de tester votre mémoire sur les commandes arithmétiques de base, travaillez en remontant à partir de 100.25"
   ]
  },
  {
   "cell_type": "code",
   "execution_count": 1,
   "id": "e0481e93",
   "metadata": {},
   "outputs": [
    {
     "data": {
      "text/plain": [
       "100.25"
      ]
     },
     "execution_count": 1,
     "metadata": {},
     "output_type": "execute_result"
    }
   ],
   "source": [
    "# Votre réponse est sans doute différente\n",
    "(20000 - (60 ** 2) /12 * 34) - 9699.75"
   ]
  },
  {
   "cell_type": "markdown",
   "id": "0fb49308",
   "metadata": {},
   "source": [
    "____\n",
    "##### Répondez à ces 3 questions sans taper de code. Ensuite tapez le code pour vérifier votre réponse.\n",
    "\n",
    "    Quelle est le résultat de l'expression 4 * (6 + 5)"
   ]
  },
  {
   "cell_type": "markdown",
   "id": "e6bd8c3a",
   "metadata": {},
   "source": [
    "44"
   ]
  },
  {
   "cell_type": "markdown",
   "id": "e43566e3",
   "metadata": {},
   "source": [
    "    Quelle est le résultat de l'expression 4 * 6 + 5 "
   ]
  },
  {
   "cell_type": "markdown",
   "id": "2f2229d7",
   "metadata": {},
   "source": [
    "29"
   ]
  },
  {
   "cell_type": "markdown",
   "id": "ed60272b",
   "metadata": {},
   "source": [
    "    Quelle est le résultat de l'expression 4 + 6 * 5 "
   ]
  },
  {
   "cell_type": "markdown",
   "id": "8004c8fe",
   "metadata": {},
   "source": [
    "34"
   ]
  },
  {
   "cell_type": "code",
   "execution_count": 3,
   "id": "6ea2b34e",
   "metadata": {},
   "outputs": [
    {
     "data": {
      "text/plain": [
       "44"
      ]
     },
     "execution_count": 3,
     "metadata": {},
     "output_type": "execute_result"
    }
   ],
   "source": [
    "# Entrer ici le code pour vérifier votre réponse\n",
    "4 * (6 + 5)"
   ]
  },
  {
   "cell_type": "code",
   "execution_count": 4,
   "id": "fb26eb0c",
   "metadata": {},
   "outputs": [
    {
     "data": {
      "text/plain": [
       "29"
      ]
     },
     "execution_count": 4,
     "metadata": {},
     "output_type": "execute_result"
    }
   ],
   "source": [
    "4 * 6 + 5 "
   ]
  },
  {
   "cell_type": "code",
   "execution_count": 5,
   "id": "134d171c",
   "metadata": {},
   "outputs": [
    {
     "data": {
      "text/plain": [
       "34"
      ]
     },
     "execution_count": 5,
     "metadata": {},
     "output_type": "execute_result"
    }
   ],
   "source": [
    "4 + 6 * 5"
   ]
  },
  {
   "cell_type": "markdown",
   "id": "52a1855a",
   "metadata": {},
   "source": [
    "____\n",
    "##### Quel est le *type* du résultat de l'expression 3 + 1.5 + 4 ?"
   ]
  },
  {
   "cell_type": "markdown",
   "id": "cc91aa53",
   "metadata": {},
   "source": [
    "**Réponse: Nombre de type Float**"
   ]
  },
  {
   "cell_type": "markdown",
   "id": "805bd4a2",
   "metadata": {},
   "source": [
    "____\n",
    "##### Qu'est-ce que vous utiliseriez pour calculer une racine carrée, ou un carré ?"
   ]
  },
  {
   "cell_type": "code",
   "execution_count": 6,
   "id": "56272531",
   "metadata": {},
   "outputs": [
    {
     "data": {
      "text/plain": [
       "10.0"
      ]
     },
     "execution_count": 6,
     "metadata": {},
     "output_type": "execute_result"
    }
   ],
   "source": [
    "100 ** 0.5"
   ]
  },
  {
   "cell_type": "code",
   "execution_count": 7,
   "id": "20205782",
   "metadata": {},
   "outputs": [
    {
     "data": {
      "text/plain": [
       "100"
      ]
     },
     "execution_count": 7,
     "metadata": {},
     "output_type": "execute_result"
    }
   ],
   "source": [
    "10 ** 2"
   ]
  },
  {
   "cell_type": "markdown",
   "id": "c9334f09",
   "metadata": {},
   "source": [
    "## Les chaines de caractères (strings)"
   ]
  },
  {
   "cell_type": "markdown",
   "id": "0c5690f5",
   "metadata": {},
   "source": [
    "##### Soit une chaine de caractère 'Bonjour', donnez une commande indexée qui donnera le résultat 'o'.\n",
    "Utilisez le code ci dessous :"
   ]
  },
  {
   "cell_type": "code",
   "execution_count": 8,
   "id": "81d955d5",
   "metadata": {},
   "outputs": [
    {
     "data": {
      "text/plain": [
       "'o'"
      ]
     },
     "execution_count": 8,
     "metadata": {},
     "output_type": "execute_result"
    }
   ],
   "source": [
    "s = 'Bonjour'\n",
    "# Afficher 'o' en utilisant un index\n",
    "\n",
    "# Le code\n",
    "s[1]"
   ]
  },
  {
   "cell_type": "markdown",
   "id": "fbfd81c1",
   "metadata": {},
   "source": [
    "____\n",
    "##### Inverser la chaine 'bonjour' avec l'indexage :"
   ]
  },
  {
   "cell_type": "code",
   "execution_count": 9,
   "id": "6239c3b1",
   "metadata": {},
   "outputs": [
    {
     "data": {
      "text/plain": [
       "'ruojnob'"
      ]
     },
     "execution_count": 9,
     "metadata": {},
     "output_type": "execute_result"
    }
   ],
   "source": [
    "s ='bonjour'\n",
    "\n",
    "# Inverser la chaine 'bonjour' avec l'indexage\n",
    "\n",
    "# le code\n",
    "s[::-1]"
   ]
  },
  {
   "cell_type": "markdown",
   "id": "dc06ef4d",
   "metadata": {},
   "source": [
    "____\n",
    "##### Soit une chaine de caractère 'Bonjour', donner 2 moyens d'afficher 'r' en utilisant l'index"
   ]
  },
  {
   "cell_type": "code",
   "execution_count": 10,
   "id": "08aef67b",
   "metadata": {},
   "outputs": [
    {
     "data": {
      "text/plain": [
       "'r'"
      ]
     },
     "execution_count": 10,
     "metadata": {},
     "output_type": "execute_result"
    }
   ],
   "source": [
    "s ='Bonjour'\n",
    "# Afficher le code ici\n",
    "s[-1]"
   ]
  },
  {
   "cell_type": "code",
   "execution_count": 11,
   "id": "858dfe26",
   "metadata": {},
   "outputs": [
    {
     "data": {
      "text/plain": [
       "'r'"
      ]
     },
     "execution_count": 11,
     "metadata": {},
     "output_type": "execute_result"
    }
   ],
   "source": [
    "s[6]"
   ]
  },
  {
   "cell_type": "markdown",
   "id": "685a0935",
   "metadata": {},
   "source": [
    "## Les listes"
   ]
  },
  {
   "cell_type": "markdown",
   "id": "9011fbf4",
   "metadata": {},
   "source": [
    "____\n",
    "##### Construire la liste [0,0,0] de deux façons différentes :"
   ]
  },
  {
   "cell_type": "code",
   "execution_count": 12,
   "id": "7275a5e6",
   "metadata": {},
   "outputs": [
    {
     "data": {
      "text/plain": [
       "[0, 0, 0]"
      ]
     },
     "execution_count": 12,
     "metadata": {},
     "output_type": "execute_result"
    }
   ],
   "source": [
    "#Méthode 1\n",
    "[0]*3"
   ]
  },
  {
   "cell_type": "code",
   "execution_count": 13,
   "id": "995c638b",
   "metadata": {},
   "outputs": [
    {
     "data": {
      "text/plain": [
       "[0, 0, 0]"
      ]
     },
     "execution_count": 13,
     "metadata": {},
     "output_type": "execute_result"
    }
   ],
   "source": [
    "#Méthode 2\n",
    "l = [0,0,0]\n",
    "l"
   ]
  },
  {
   "cell_type": "markdown",
   "id": "345d2954",
   "metadata": {},
   "source": [
    "_____\n",
    "##### Ré-assigne le 'bonjour' dans cette liste imbriquée pour dire 'salut':"
   ]
  },
  {
   "cell_type": "code",
   "execution_count": 15,
   "id": "279f3bc6",
   "metadata": {},
   "outputs": [],
   "source": [
    "l = [1,2,[3,4,'bonjour']]"
   ]
  },
  {
   "cell_type": "code",
   "execution_count": 17,
   "id": "08ed9fa7",
   "metadata": {},
   "outputs": [
    {
     "data": {
      "text/plain": [
       "[1, 2, [3, 4, 'salut']]"
      ]
     },
     "execution_count": 17,
     "metadata": {},
     "output_type": "execute_result"
    }
   ],
   "source": [
    "l[2][2] = 'salut'\n",
    "l"
   ]
  },
  {
   "cell_type": "markdown",
   "id": "bb3212a9",
   "metadata": {},
   "source": [
    "____\n",
    "##### Trier la liste ci-dessous :"
   ]
  },
  {
   "cell_type": "code",
   "execution_count": 19,
   "id": "4cbe507f",
   "metadata": {},
   "outputs": [],
   "source": [
    "l = [3,4,5,5,6]"
   ]
  },
  {
   "cell_type": "code",
   "execution_count": 20,
   "id": "c3b69bd4",
   "metadata": {},
   "outputs": [
    {
     "data": {
      "text/plain": [
       "[3, 4, 5, 5, 6]"
      ]
     },
     "execution_count": 20,
     "metadata": {},
     "output_type": "execute_result"
    }
   ],
   "source": [
    "#Méthode 1\n",
    "sorted(l)"
   ]
  },
  {
   "cell_type": "code",
   "execution_count": 21,
   "id": "5049492b",
   "metadata": {},
   "outputs": [
    {
     "data": {
      "text/plain": [
       "[3, 4, 5, 5, 6]"
      ]
     },
     "execution_count": 21,
     "metadata": {},
     "output_type": "execute_result"
    }
   ],
   "source": [
    "#Méthode 2\n",
    "l.sort()\n",
    "l"
   ]
  },
  {
   "cell_type": "markdown",
   "id": "31cbfa9c",
   "metadata": {},
   "source": [
    "## Les dictionnaires"
   ]
  },
  {
   "cell_type": "markdown",
   "id": "34ac52fd",
   "metadata": {},
   "source": [
    "_____\n",
    "##### Au moyen de clefs et d'index, extraire 'bonjour' des dictionnaires ci dessous :"
   ]
  },
  {
   "cell_type": "code",
   "execution_count": 22,
   "id": "7726146b",
   "metadata": {},
   "outputs": [
    {
     "data": {
      "text/plain": [
       "'bonjour'"
      ]
     },
     "execution_count": 22,
     "metadata": {},
     "output_type": "execute_result"
    }
   ],
   "source": [
    "d = {'clef_simple':'bonjour'}\n",
    "# Extraire 'bonjour'\n",
    "d['clef_simple']"
   ]
  },
  {
   "cell_type": "code",
   "execution_count": 24,
   "id": "313e7510",
   "metadata": {},
   "outputs": [
    {
     "data": {
      "text/plain": [
       "'bonjour'"
      ]
     },
     "execution_count": 24,
     "metadata": {},
     "output_type": "execute_result"
    }
   ],
   "source": [
    "d = {'k1':{'k2':'bonjour'}}\n",
    "# Extraire 'bonjour'\n",
    "d['k1']['k2']"
   ]
  },
  {
   "cell_type": "code",
   "execution_count": 25,
   "id": "8552093f",
   "metadata": {},
   "outputs": [
    {
     "data": {
      "text/plain": [
       "'bonjour'"
      ]
     },
     "execution_count": 25,
     "metadata": {},
     "output_type": "execute_result"
    }
   ],
   "source": [
    "# Un peu plus difficile\n",
    "d = {'clef1':[{'clef_imbriquée':['profond',['bonjour']]}]}\n",
    "# Extraire 'bonjour'\n",
    "d['clef1'][0]['clef_imbriquée'][1][0]"
   ]
  },
  {
   "cell_type": "code",
   "execution_count": 26,
   "id": "b7b22758",
   "metadata": {},
   "outputs": [
    {
     "data": {
      "text/plain": [
       "'bonjour'"
      ]
     },
     "execution_count": 26,
     "metadata": {},
     "output_type": "execute_result"
    }
   ],
   "source": [
    "# Celui-ci est compliqué et ennuyeux\n",
    "d = {'clef1':[1,2,{'clef2':['difficile',{'profond':[1,2,['bonjour']]}]}]}\n",
    "d['clef1'][2]['clef2'][1]['profond'][2][0]"
   ]
  },
  {
   "cell_type": "markdown",
   "id": "fe8de8dc",
   "metadata": {},
   "source": [
    "_____\n",
    "##### Peut-on trier un dictionnaire ? Pourquoi ?"
   ]
  },
  {
   "cell_type": "markdown",
   "id": "84384c64",
   "metadata": {},
   "source": [
    "**Réponse : Non! Parce que les dictionaires fonctionnent par *mise en relation*, pas par séquence.**"
   ]
  },
  {
   "cell_type": "markdown",
   "id": "dedee0bb",
   "metadata": {},
   "source": [
    "## Tuples"
   ]
  },
  {
   "cell_type": "markdown",
   "id": "33fabcd1",
   "metadata": {},
   "source": [
    "_____\n",
    "##### Quelle est la principale différence entre les tuples et les listes ?"
   ]
  },
  {
   "cell_type": "markdown",
   "id": "3198245a",
   "metadata": {},
   "source": [
    "**Les Tuples sont immuables, invariables !**"
   ]
  },
  {
   "cell_type": "markdown",
   "id": "50e41561",
   "metadata": {},
   "source": [
    "##### Comment créer un tuple ?"
   ]
  },
  {
   "cell_type": "code",
   "execution_count": 27,
   "id": "191a44e1",
   "metadata": {},
   "outputs": [],
   "source": [
    "t = (1,2,3)"
   ]
  },
  {
   "cell_type": "markdown",
   "id": "21bde492",
   "metadata": {},
   "source": [
    "## Sets "
   ]
  },
  {
   "cell_type": "markdown",
   "id": "a74ef37a",
   "metadata": {},
   "source": [
    "_____\n",
    "##### Qu'est-ce qui est unique dans un set ?"
   ]
  },
  {
   "cell_type": "markdown",
   "id": "16743e62",
   "metadata": {},
   "source": [
    "**Réponse : Ils interdisent d'avoir des éléments en double !**"
   ]
  },
  {
   "cell_type": "markdown",
   "id": "d42bdfb0",
   "metadata": {},
   "source": [
    "_____\n",
    "##### Utilisez un set pour trouver les valeurs distinctes de cette liste :"
   ]
  },
  {
   "cell_type": "code",
   "execution_count": 28,
   "id": "6d0cf2a7",
   "metadata": {},
   "outputs": [],
   "source": [
    "l = [1,2,2,33,4,4,11,22,3,3,2]"
   ]
  },
  {
   "cell_type": "code",
   "execution_count": 29,
   "id": "df7f643a",
   "metadata": {},
   "outputs": [
    {
     "data": {
      "text/plain": [
       "{1, 2, 3, 4, 11, 22, 33}"
      ]
     },
     "execution_count": 29,
     "metadata": {},
     "output_type": "execute_result"
    }
   ],
   "source": [
    "set(l)"
   ]
  },
  {
   "cell_type": "markdown",
   "id": "31cac3aa",
   "metadata": {},
   "source": [
    "## Booléens"
   ]
  },
  {
   "cell_type": "markdown",
   "id": "a56c8214",
   "metadata": {},
   "source": [
    "Pour les questions suivantes, vous aurez besoin de donner un coup d'oeil aux opérateurs de comparaison suivants :\n",
    "\n",
    "<table class=\"table table-bordered\">\n",
    "<tr>\n",
    "<th style=\"width:10%\">Opérateur</th><th style=\"width:45%\">Description</th><th>Exemple</th>\n",
    "</tr>\n",
    "<tr>\n",
    "<td>==</td>\n",
    "<td>Si les valeurs des deux opérandes sont égales, alors la condition est vraie.</td>\n",
    "<td> (a == b) n'est pas vrai.</td>\n",
    "</tr>\n",
    "<tr>\n",
    "<td>!=</td>\n",
    "<td>Si les valeurs des deux opérandes ne sont pas égales, alors la condition est vraie.</td>\n",
    "<td> (a != b) est vrai.</td></tr>\n",
    "<tr>\n",
    "<td>&gt;</td>\n",
    "<td>Si la valeur de l'opérande de gauche est supérieure à la valeur de l'opérateur de droite, alors la condition est vraie.</td>\n",
    "<td> (a &gt; b) n'est pas vrai.</td>\n",
    "</tr>\n",
    "<tr>\n",
    "<td>&lt;</td>\n",
    "<td>Si la valeur de l'opérande de gauche est inférieure à la valeur de l'opérateur de droite, alors la condition est vraie.</td>\n",
    "<td> (a &lt; b) est vrai.</td>\n",
    "</tr>\n",
    "<tr>\n",
    "<td>&gt;=</td>\n",
    "<td>Si la valeur de l'opérande de gauche est supérieure ou égale à la valeur de l'opérateur de droite, alors la condition est vraie.</td>\n",
    "<td> (a &gt;= b) n'est pas vrai. </td>\n",
    "</tr>\n",
    "<tr>\n",
    "<td>&lt;=</td>\n",
    "<td>Si la valeur de l'opérande de gauche est inférieure ou égale à la valeur de l'opérateur de droite, alors la condition est vraie.</td>\n",
    "<td> (a &lt;= b) est vrai. </td>\n",
    "</tr>\n",
    "</table>"
   ]
  },
  {
   "cell_type": "markdown",
   "id": "33464443",
   "metadata": {},
   "source": [
    "_____\n",
    "##### Que sera le résutat booléen des morceaux de code suivants (répondez d'abord puis vérifiez en exécutant le code correspondant !)"
   ]
  },
  {
   "cell_type": "code",
   "execution_count": null,
   "id": "f8a6f409",
   "metadata": {},
   "outputs": [],
   "source": []
  },
  {
   "cell_type": "code",
   "execution_count": 31,
   "id": "d160dc2f",
   "metadata": {},
   "outputs": [
    {
     "data": {
      "text/plain": [
       "False"
      ]
     },
     "execution_count": 31,
     "metadata": {},
     "output_type": "execute_result"
    }
   ],
   "source": [
    "# Répondez avec d'exécuter la cellule\n",
    "2 > 3"
   ]
  },
  {
   "cell_type": "code",
   "execution_count": null,
   "id": "50274e27",
   "metadata": {},
   "outputs": [],
   "source": []
  },
  {
   "cell_type": "code",
   "execution_count": 32,
   "id": "aded3f4d",
   "metadata": {},
   "outputs": [
    {
     "data": {
      "text/plain": [
       "False"
      ]
     },
     "execution_count": 32,
     "metadata": {},
     "output_type": "execute_result"
    }
   ],
   "source": [
    "# Répondez avec d'exécuter la cellule\n",
    "3 <= 2"
   ]
  },
  {
   "cell_type": "code",
   "execution_count": null,
   "id": "7dee9d71",
   "metadata": {},
   "outputs": [],
   "source": []
  },
  {
   "cell_type": "code",
   "execution_count": 33,
   "id": "ce43117b",
   "metadata": {},
   "outputs": [
    {
     "data": {
      "text/plain": [
       "False"
      ]
     },
     "execution_count": 33,
     "metadata": {},
     "output_type": "execute_result"
    }
   ],
   "source": [
    "# Répondez avec d'exécuter la cellule\n",
    "3 == 2.0"
   ]
  },
  {
   "cell_type": "code",
   "execution_count": null,
   "id": "db1b5f11",
   "metadata": {},
   "outputs": [],
   "source": []
  },
  {
   "cell_type": "code",
   "execution_count": 34,
   "id": "368629ba",
   "metadata": {},
   "outputs": [
    {
     "data": {
      "text/plain": [
       "True"
      ]
     },
     "execution_count": 34,
     "metadata": {},
     "output_type": "execute_result"
    }
   ],
   "source": [
    "# Répondez avec d'exécuter la cellule\n",
    "3.0 == 3"
   ]
  },
  {
   "cell_type": "code",
   "execution_count": null,
   "id": "685be13f",
   "metadata": {},
   "outputs": [],
   "source": []
  },
  {
   "cell_type": "code",
   "execution_count": 35,
   "id": "1fdcdd78",
   "metadata": {},
   "outputs": [
    {
     "data": {
      "text/plain": [
       "False"
      ]
     },
     "execution_count": 35,
     "metadata": {},
     "output_type": "execute_result"
    }
   ],
   "source": [
    "# Répondez avec d'exécuter la cellule\n",
    "4**0.5 != 2"
   ]
  },
  {
   "cell_type": "code",
   "execution_count": null,
   "id": "6bddf743",
   "metadata": {},
   "outputs": [],
   "source": []
  },
  {
   "cell_type": "markdown",
   "id": "5767d953",
   "metadata": {},
   "source": [
    "_____\n",
    "##### Dernière question : quel est le résultat du bloc suivant ?"
   ]
  },
  {
   "cell_type": "code",
   "execution_count": 30,
   "id": "e892872e",
   "metadata": {},
   "outputs": [
    {
     "data": {
      "text/plain": [
       "False"
      ]
     },
     "execution_count": 30,
     "metadata": {},
     "output_type": "execute_result"
    }
   ],
   "source": [
    "# Deux liste imbriquées\n",
    "l_un = [1,2,[3,4]]\n",
    "l_deux = [1,2,{'clef1':4}]\n",
    "\n",
    "# Vrai ou faux ? True ou False?\n",
    "l_un[2][0] >= l_deux[2]['clef1']"
   ]
  },
  {
   "cell_type": "code",
   "execution_count": null,
   "id": "ded9cd42",
   "metadata": {},
   "outputs": [],
   "source": []
  }
 ],
 "metadata": {
  "kernelspec": {
   "display_name": "Python 3",
   "language": "python",
   "name": "python3"
  },
  "language_info": {
   "codemirror_mode": {
    "name": "ipython",
    "version": 3
   },
   "file_extension": ".py",
   "mimetype": "text/x-python",
   "name": "python",
   "nbconvert_exporter": "python",
   "pygments_lexer": "ipython3",
   "version": "3.8.8"
  }
 },
 "nbformat": 4,
 "nbformat_minor": 5
}
