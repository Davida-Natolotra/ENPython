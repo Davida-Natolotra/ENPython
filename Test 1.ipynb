{
 "cells": [
  {
   "cell_type": "markdown",
   "id": "53d11c64",
   "metadata": {},
   "source": [
    "# Test de validation 1: variables, objets, structures de données \n",
    "_____"
   ]
  },
  {
   "cell_type": "markdown",
   "id": "61ead08f",
   "metadata": {},
   "source": [
    "Numéro(s) du/des participants:"
   ]
  },
  {
   "cell_type": "markdown",
   "id": "20788434",
   "metadata": {},
   "source": [
    "_____\n",
    "## Les nombres\n",
    "\n",
    "##### Rédigez une équation qui utilise multiplication, division, exposant, addition, et soustraction dont le résultat sera 100.25.\n",
    "\n",
    "Conseil: Le but est de tester votre mémoire sur les commandes arithmétiques de base, travaillez en remontant à partir de 100.25"
   ]
  },
  {
   "cell_type": "markdown",
   "id": "a57c5e3c",
   "metadata": {},
   "source": []
  },
  {
   "cell_type": "markdown",
   "id": "d2f96879",
   "metadata": {},
   "source": [
    "____\n",
    "##### Répondez à ces 3 questions sans taper de code. Ensuite tapez le code pour vérifier votre réponse.\n",
    "\n",
    "    Quelle est le résultat de l'expression 4 * (6 + 5)"
   ]
  },
  {
   "cell_type": "markdown",
   "id": "eb35e706",
   "metadata": {},
   "source": [
    "*Entrer ici votre réponse*"
   ]
  },
  {
   "cell_type": "markdown",
   "id": "07284293",
   "metadata": {},
   "source": [
    "    Quelle est le résultat de l'expression 4 * 6 + 5 "
   ]
  },
  {
   "cell_type": "markdown",
   "id": "cc5ef4c0",
   "metadata": {},
   "source": [
    "*Entrer ici votre réponse*"
   ]
  },
  {
   "cell_type": "markdown",
   "id": "706b14c9",
   "metadata": {},
   "source": [
    "    Quelle est le résultat de l'expression 4 + 6 * 5 "
   ]
  },
  {
   "cell_type": "markdown",
   "id": "d399b5d9",
   "metadata": {},
   "source": [
    "*Entrer ici votre réponse*"
   ]
  },
  {
   "cell_type": "code",
   "execution_count": null,
   "id": "aa8744b9",
   "metadata": {},
   "outputs": [],
   "source": [
    "# Entrer ici le code pour vérifier votre réponse"
   ]
  },
  {
   "cell_type": "markdown",
   "id": "d663c24a",
   "metadata": {},
   "source": [
    "____\n",
    "##### Quel est le *type* du résultat de l'expression 3 + 1.5 + 4 ?"
   ]
  },
  {
   "cell_type": "code",
   "execution_count": null,
   "id": "128bb5d1",
   "metadata": {},
   "outputs": [],
   "source": []
  },
  {
   "cell_type": "markdown",
   "id": "e4333592",
   "metadata": {},
   "source": [
    "____\n",
    "##### Qu'est-ce que vous utiliseriez pour calculer une racine carrée, ou un carré ?"
   ]
  },
  {
   "cell_type": "code",
   "execution_count": null,
   "id": "0be507f1",
   "metadata": {},
   "outputs": [],
   "source": []
  },
  {
   "cell_type": "markdown",
   "id": "07371283",
   "metadata": {},
   "source": [
    "## Les chaines de caractères (strings)"
   ]
  },
  {
   "cell_type": "markdown",
   "id": "397e4c6b",
   "metadata": {},
   "source": [
    "##### Soit une chaine de caractère 'Bonjour', donnez une commande indexée qui donnera le résultat 'o'.\n",
    "Utilisez le code ci dessous :"
   ]
  },
  {
   "cell_type": "code",
   "execution_count": 1,
   "id": "a2970813",
   "metadata": {},
   "outputs": [],
   "source": [
    "s = 'Bonjour'\n",
    "# Afficher 'o' en utilisant un index\n",
    "\n",
    "# Le code"
   ]
  },
  {
   "cell_type": "markdown",
   "id": "8140bfbd",
   "metadata": {},
   "source": [
    "____\n",
    "##### Inverser la chaine 'bonjour' avec l'indexage :"
   ]
  },
  {
   "cell_type": "code",
   "execution_count": 2,
   "id": "775e14b4",
   "metadata": {},
   "outputs": [],
   "source": [
    "s ='bonjour'\n",
    "\n",
    "# Inverser la chaine 'bonjour' avec l'indexage\n",
    "\n",
    "# le code"
   ]
  },
  {
   "cell_type": "markdown",
   "id": "c321eb1c",
   "metadata": {},
   "source": [
    "____\n",
    "##### Soit une chaine de caractère 'Bonjour', donner 2 moyens d'afficher 'r' en utilisant l'index"
   ]
  },
  {
   "cell_type": "code",
   "execution_count": 3,
   "id": "c58851b7",
   "metadata": {},
   "outputs": [],
   "source": [
    "s ='Bonjour'\n",
    "# Afficher le code ici\n"
   ]
  },
  {
   "cell_type": "code",
   "execution_count": null,
   "id": "41b6edcc",
   "metadata": {},
   "outputs": [],
   "source": []
  },
  {
   "cell_type": "markdown",
   "id": "d95bac32",
   "metadata": {},
   "source": [
    "## Les listes"
   ]
  },
  {
   "cell_type": "markdown",
   "id": "232acd2e",
   "metadata": {},
   "source": [
    "____\n",
    "##### Construire la liste [0,0,0] de deux façons différentes :"
   ]
  },
  {
   "cell_type": "code",
   "execution_count": null,
   "id": "48529209",
   "metadata": {},
   "outputs": [],
   "source": []
  },
  {
   "cell_type": "markdown",
   "id": "7b6857f1",
   "metadata": {},
   "source": [
    "_____\n",
    "##### Ré-assigne le 'bonjour' dans cette liste imbriquée pour dire 'salut':"
   ]
  },
  {
   "cell_type": "code",
   "execution_count": 4,
   "id": "c0ffdd7e",
   "metadata": {},
   "outputs": [],
   "source": [
    "l = [1,2,[3,4,'bonjour']]"
   ]
  },
  {
   "cell_type": "code",
   "execution_count": null,
   "id": "5c7d9b2a",
   "metadata": {},
   "outputs": [],
   "source": []
  },
  {
   "cell_type": "markdown",
   "id": "5db5d13a",
   "metadata": {},
   "source": [
    "____\n",
    "##### Trier la liste ci-dessous :"
   ]
  },
  {
   "cell_type": "code",
   "execution_count": 5,
   "id": "2434932c",
   "metadata": {},
   "outputs": [],
   "source": [
    "l = [3,4,5,5,6]"
   ]
  },
  {
   "cell_type": "code",
   "execution_count": null,
   "id": "7386bc6c",
   "metadata": {},
   "outputs": [],
   "source": []
  },
  {
   "cell_type": "markdown",
   "id": "3c076d29",
   "metadata": {},
   "source": [
    "## Les dictionnaires"
   ]
  },
  {
   "cell_type": "markdown",
   "id": "c77d0233",
   "metadata": {},
   "source": [
    "_____\n",
    "##### Au moyen de clefs et d'index, extraire 'bonjour' des dictionnaires ci dessous :"
   ]
  },
  {
   "cell_type": "code",
   "execution_count": 6,
   "id": "c61d549e",
   "metadata": {},
   "outputs": [],
   "source": [
    "d = {'clef_simple':'bonjour'}\n",
    "# Extraire 'bonjour'"
   ]
  },
  {
   "cell_type": "code",
   "execution_count": 7,
   "id": "2457fab1",
   "metadata": {},
   "outputs": [],
   "source": [
    "d = {'k1':{'k2':'bonjour'}}\n",
    "# Extraire 'bonjour'\n"
   ]
  },
  {
   "cell_type": "code",
   "execution_count": 8,
   "id": "3b9101fc",
   "metadata": {},
   "outputs": [],
   "source": [
    "# Un peu plus difficile\n",
    "d = {'clef1':[{'clef_imbriquée':['profond',['bonjour']]}]}\n",
    "# Extraire 'bonjour'"
   ]
  },
  {
   "cell_type": "code",
   "execution_count": 9,
   "id": "2258c1d3",
   "metadata": {},
   "outputs": [],
   "source": [
    "# Celui-ci est compliqué et ennuyeux\n",
    "d = {'clef1':[1,2,{'clef2':['difficile',{'profond':[1,2,['bonjour']]}]}]}"
   ]
  },
  {
   "cell_type": "markdown",
   "id": "63fdc77f",
   "metadata": {},
   "source": [
    "_____\n",
    "##### Peut-on trier un dictionnaire ? Pourquoi ?"
   ]
  },
  {
   "cell_type": "code",
   "execution_count": null,
   "id": "6b5028f7",
   "metadata": {},
   "outputs": [],
   "source": []
  },
  {
   "cell_type": "markdown",
   "id": "4b99d046",
   "metadata": {},
   "source": [
    "## Tuples"
   ]
  },
  {
   "cell_type": "markdown",
   "id": "374c281f",
   "metadata": {},
   "source": [
    "_____\n",
    "##### Quelle est la principale différence entre les tuples et les listes ?"
   ]
  },
  {
   "cell_type": "code",
   "execution_count": null,
   "id": "8f7b3547",
   "metadata": {},
   "outputs": [],
   "source": []
  },
  {
   "cell_type": "markdown",
   "id": "90cef607",
   "metadata": {},
   "source": [
    "_____\n",
    "##### Quelle est la principale différence entre les tuples et les listes ?"
   ]
  },
  {
   "cell_type": "code",
   "execution_count": null,
   "id": "df4d73fd",
   "metadata": {},
   "outputs": [],
   "source": []
  },
  {
   "cell_type": "markdown",
   "id": "1dd4e0d9",
   "metadata": {},
   "source": [
    "## Sets "
   ]
  },
  {
   "cell_type": "markdown",
   "id": "948a723b",
   "metadata": {},
   "source": [
    "_____\n",
    "##### Qu'est-ce qui est unique dans un set ?"
   ]
  },
  {
   "cell_type": "code",
   "execution_count": null,
   "id": "7886dca0",
   "metadata": {},
   "outputs": [],
   "source": []
  },
  {
   "cell_type": "markdown",
   "id": "dce7d0bd",
   "metadata": {},
   "source": [
    "_____\n",
    "##### Utilisez un set pour trouver les valeurs distinctes de cette liste :"
   ]
  },
  {
   "cell_type": "code",
   "execution_count": 11,
   "id": "df4e8f59",
   "metadata": {},
   "outputs": [],
   "source": [
    "l = [1,2,2,33,4,4,11,22,3,3,2]"
   ]
  },
  {
   "cell_type": "code",
   "execution_count": null,
   "id": "cc899598",
   "metadata": {},
   "outputs": [],
   "source": []
  },
  {
   "cell_type": "markdown",
   "id": "39eff285",
   "metadata": {},
   "source": [
    "## Booléens"
   ]
  },
  {
   "cell_type": "markdown",
   "id": "0d8332d6",
   "metadata": {},
   "source": [
    "Pour les questions suivantes, vous aurez besoin de donner un coup d'oeil aux opérateurs de comparaison suivants :\n",
    "\n",
    "<table class=\"table table-bordered\">\n",
    "<tr>\n",
    "<th style=\"width:10%\">Opérateur</th><th style=\"width:45%\">Description</th><th>Exemple</th>\n",
    "</tr>\n",
    "<tr>\n",
    "<td>==</td>\n",
    "<td>Si les valeurs des deux opérandes sont égales, alors la condition est vraie.</td>\n",
    "<td> (a == b) n'est pas vrai.</td>\n",
    "</tr>\n",
    "<tr>\n",
    "<td>!=</td>\n",
    "<td>Si les valeurs des deux opérandes ne sont pas égales, alors la condition est vraie.</td>\n",
    "<td> (a != b) est vrai.</td></tr>\n",
    "<tr>\n",
    "<td>&gt;</td>\n",
    "<td>Si la valeur de l'opérande de gauche est supérieure à la valeur de l'opérateur de droite, alors la condition est vraie.</td>\n",
    "<td> (a &gt; b) n'est pas vrai.</td>\n",
    "</tr>\n",
    "<tr>\n",
    "<td>&lt;</td>\n",
    "<td>Si la valeur de l'opérande de gauche est inférieure à la valeur de l'opérateur de droite, alors la condition est vraie.</td>\n",
    "<td> (a &lt; b) est vrai.</td>\n",
    "</tr>\n",
    "<tr>\n",
    "<td>&gt;=</td>\n",
    "<td>Si la valeur de l'opérande de gauche est supérieure ou égale à la valeur de l'opérateur de droite, alors la condition est vraie.</td>\n",
    "<td> (a &gt;= b) n'est pas vrai. </td>\n",
    "</tr>\n",
    "<tr>\n",
    "<td>&lt;=</td>\n",
    "<td>Si la valeur de l'opérande de gauche est inférieure ou égale à la valeur de l'opérateur de droite, alors la condition est vraie.</td>\n",
    "<td> (a &lt;= b) est vrai. </td>\n",
    "</tr>\n",
    "</table>"
   ]
  },
  {
   "cell_type": "markdown",
   "id": "c744ff4a",
   "metadata": {},
   "source": [
    "_____\n",
    "##### Que sera le résutat booléen des morceaux de code suivants (répondez d'abord puis vérifiez en exécutant le code correspondant !)"
   ]
  },
  {
   "cell_type": "code",
   "execution_count": null,
   "id": "067140f9",
   "metadata": {},
   "outputs": [],
   "source": []
  },
  {
   "cell_type": "code",
   "execution_count": null,
   "id": "0a32cdf0",
   "metadata": {},
   "outputs": [],
   "source": [
    "# Répondez avec d'exécuter la cellule\n",
    "2 > 3"
   ]
  },
  {
   "cell_type": "code",
   "execution_count": null,
   "id": "a4f90166",
   "metadata": {},
   "outputs": [],
   "source": []
  },
  {
   "cell_type": "code",
   "execution_count": null,
   "id": "d575c70d",
   "metadata": {},
   "outputs": [],
   "source": [
    "# Répondez avec d'exécuter la cellule\n",
    "3 <= 2"
   ]
  },
  {
   "cell_type": "code",
   "execution_count": null,
   "id": "c75e2338",
   "metadata": {},
   "outputs": [],
   "source": []
  },
  {
   "cell_type": "code",
   "execution_count": null,
   "id": "85649e1c",
   "metadata": {},
   "outputs": [],
   "source": [
    "# Répondez avec d'exécuter la cellule\n",
    "3 == 2.0"
   ]
  },
  {
   "cell_type": "code",
   "execution_count": null,
   "id": "544c109c",
   "metadata": {},
   "outputs": [],
   "source": []
  },
  {
   "cell_type": "code",
   "execution_count": null,
   "id": "ed46daa9",
   "metadata": {},
   "outputs": [],
   "source": [
    "# Répondez avec d'exécuter la cellule\n",
    "3.0 == 3"
   ]
  },
  {
   "cell_type": "code",
   "execution_count": null,
   "id": "008ee527",
   "metadata": {},
   "outputs": [],
   "source": []
  },
  {
   "cell_type": "code",
   "execution_count": null,
   "id": "fe417a2d",
   "metadata": {},
   "outputs": [],
   "source": [
    "# Répondez avec d'exécuter la cellule\n",
    "4**0.5 != 2"
   ]
  },
  {
   "cell_type": "code",
   "execution_count": null,
   "id": "45d01555",
   "metadata": {},
   "outputs": [],
   "source": []
  },
  {
   "cell_type": "markdown",
   "id": "72fd0eae",
   "metadata": {},
   "source": [
    "_____\n",
    "##### Dernière question : quel est le résultat du bloc suivant ?"
   ]
  },
  {
   "cell_type": "code",
   "execution_count": null,
   "id": "1b5e6cc9",
   "metadata": {},
   "outputs": [],
   "source": [
    "# Deux liste imbriquées\n",
    "l_un = [1,2,[3,4]]\n",
    "l_deux = [1,2,{'clef1':4}]\n",
    "\n",
    "# Vrai ou faux ? True ou False?\n",
    "l_un[2][0] >= l_deux[2]['clef1']"
   ]
  },
  {
   "cell_type": "code",
   "execution_count": null,
   "id": "d7886710",
   "metadata": {},
   "outputs": [],
   "source": []
  }
 ],
 "metadata": {
  "kernelspec": {
   "display_name": "Python 3",
   "language": "python",
   "name": "python3"
  },
  "language_info": {
   "codemirror_mode": {
    "name": "ipython",
    "version": 3
   },
   "file_extension": ".py",
   "mimetype": "text/x-python",
   "name": "python",
   "nbconvert_exporter": "python",
   "pygments_lexer": "ipython3",
   "version": "3.8.8"
  }
 },
 "nbformat": 4,
 "nbformat_minor": 5
}
