{
 "cells": [
  {
   "cell_type": "markdown",
   "id": "ae580c3c",
   "metadata": {},
   "source": [
    "## Test d'évaluation 2: les boucles\n",
    "_____"
   ]
  },
  {
   "cell_type": "markdown",
   "id": "da242f24",
   "metadata": {},
   "source": [
    "Numéro(s) du/des participants:"
   ]
  },
  {
   "cell_type": "markdown",
   "id": "89cd0334",
   "metadata": {},
   "source": [
    "____\n",
    "**Utilisez les instructions for, split(), et if pour créer un code qui va n'afficher que les mots qui commencent par 'c' dans cette phrase :**"
   ]
  },
  {
   "cell_type": "code",
   "execution_count": null,
   "id": "1543984a",
   "metadata": {},
   "outputs": [],
   "source": [
    "st = \"Cet exercice consiste à afficher uniquement les mots commencent par la lettre c\""
   ]
  },
  {
   "cell_type": "code",
   "execution_count": null,
   "id": "673afdb0",
   "metadata": {},
   "outputs": [],
   "source": [
    "# Votre code"
   ]
  },
  {
   "cell_type": "markdown",
   "id": "3e418796",
   "metadata": {},
   "source": [
    "______\n",
    "**Utilisez range() pour afficher les nombres pairs de 0 à 10.**"
   ]
  },
  {
   "cell_type": "code",
   "execution_count": null,
   "id": "562c2712",
   "metadata": {},
   "outputs": [],
   "source": [
    "# Votre code"
   ]
  },
  {
   "cell_type": "markdown",
   "id": "a62acf9d",
   "metadata": {},
   "source": [
    "___\n",
    "**Utilisez la compréhension de liste pour créer la liste des nombres divisibles par 3 compris entre 1 et 50.**"
   ]
  },
  {
   "cell_type": "code",
   "execution_count": null,
   "id": "a8b9d790",
   "metadata": {},
   "outputs": [],
   "source": [
    "# Votre code\n",
    "[]"
   ]
  },
  {
   "cell_type": "markdown",
   "id": "2ad89824",
   "metadata": {},
   "source": [
    "_____\n",
    "**Dans la chaine suivante, vérifiez le nombre de lettre de chaque mot et si celui-ci est pair, affichez le mot aveec \"pair !\"**"
   ]
  },
  {
   "cell_type": "code",
   "execution_count": null,
   "id": "ddfc4a3e",
   "metadata": {},
   "outputs": [],
   "source": [
    "st = 'Affichez chaque mot de cette phrase dont le nombre de lettres est pair'"
   ]
  },
  {
   "cell_type": "code",
   "execution_count": null,
   "id": "357dcabd",
   "metadata": {},
   "outputs": [],
   "source": [
    "# Votre code"
   ]
  },
  {
   "cell_type": "markdown",
   "id": "86b3befa",
   "metadata": {},
   "source": [
    "____\n",
    "**Écrire un programme qui affiche les nombres entiers de 1 à 100. Pour les multiples de trois afficher \"Fizz\" à la place du nombre et pour les multiples de cinq afficher \"Buzz\". Pour les nombres qui sont à la fois des multiples de trois et de cinq afficher \"FizzBuzz\".**"
   ]
  },
  {
   "cell_type": "code",
   "execution_count": null,
   "id": "ce363e23",
   "metadata": {},
   "outputs": [],
   "source": [
    "# Votre code"
   ]
  },
  {
   "cell_type": "markdown",
   "id": "d26089f6",
   "metadata": {},
   "source": [
    "____\n",
    "**Utilisez la compréhension de liste pour créer la liste des cinq premières lettres de chaque mot dans la chaine ci dessous :**"
   ]
  },
  {
   "cell_type": "code",
   "execution_count": null,
   "id": "91e812d7",
   "metadata": {},
   "outputs": [],
   "source": [
    "st = \"Création d'une liste des cinq premières lettres de chaque mot de cette chaine de caractères\""
   ]
  },
  {
   "cell_type": "code",
   "execution_count": 1,
   "id": "ae2789ba",
   "metadata": {},
   "outputs": [],
   "source": [
    "# Votre code"
   ]
  },
  {
   "cell_type": "code",
   "execution_count": null,
   "id": "1c1988e1",
   "metadata": {},
   "outputs": [],
   "source": []
  }
 ],
 "metadata": {
  "kernelspec": {
   "display_name": "Python 3",
   "language": "python",
   "name": "python3"
  },
  "language_info": {
   "codemirror_mode": {
    "name": "ipython",
    "version": 3
   },
   "file_extension": ".py",
   "mimetype": "text/x-python",
   "name": "python",
   "nbconvert_exporter": "python",
   "pygments_lexer": "ipython3",
   "version": "3.8.8"
  }
 },
 "nbformat": 4,
 "nbformat_minor": 5
}
