{
 "cells": [
  {
   "cell_type": "markdown",
   "id": "f91354b0",
   "metadata": {},
   "source": [
    "# Test de validation 3: les fonctions"
   ]
  },
  {
   "cell_type": "markdown",
   "id": "bb6dbb7c",
   "metadata": {},
   "source": [
    "Numéro(s) du/des participants:"
   ]
  },
  {
   "cell_type": "markdown",
   "id": "5bc06ef1",
   "metadata": {},
   "source": [
    "___\n",
    "Répondez aux questions suivantes:"
   ]
  },
  {
   "cell_type": "markdown",
   "id": "a81417db",
   "metadata": {},
   "source": [
    "**Ecrire une fonction qui renvoie le volume d'une sphère en fonction de son rayon**"
   ]
  },
  {
   "cell_type": "code",
   "execution_count": null,
   "id": "238a6f3d",
   "metadata": {},
   "outputs": [],
   "source": [
    "def vol(rayon):\n",
    "    pass"
   ]
  },
  {
   "cell_type": "markdown",
   "id": "469365a5",
   "metadata": {},
   "source": [
    "____\n",
    "**Ecrire une fonction qui vérifie qu'un nombre est situé dans un intervalle donné (bornes incluses)**"
   ]
  },
  {
   "cell_type": "code",
   "execution_count": null,
   "id": "d1873746",
   "metadata": {},
   "outputs": [],
   "source": [
    "def verif_intervalle(num,bas,haut):\n",
    "    pass"
   ]
  },
  {
   "cell_type": "markdown",
   "id": "d54b4680",
   "metadata": {},
   "source": [
    "____\n",
    "Réponse sous forme d'un booléen :"
   ]
  },
  {
   "cell_type": "code",
   "execution_count": null,
   "id": "b6088f95",
   "metadata": {},
   "outputs": [],
   "source": [
    "def bool_intervalle(num,bas,haut):\n",
    "    pass"
   ]
  },
  {
   "cell_type": "code",
   "execution_count": null,
   "id": "c2e69427",
   "metadata": {},
   "outputs": [],
   "source": [
    "bool_intervalle(3,1,10)"
   ]
  },
  {
   "cell_type": "markdown",
   "id": "1c9011a6",
   "metadata": {},
   "source": [
    "____\n",
    "**Écrivez une fonction Python qui calcule le nombre de lettres majuscules et minuscules dans une chaine.**\n",
    "\n",
    "    Exemple de chaine : \"Bonjour Mr Martin, comment allez vous en cette belle journée de mardi ?\"\n",
    "    Réponse souhaitée :\n",
    "    Nombre de majuscules : 3\n",
    "    Nombre de minuscules : 54\n",
    "    "
   ]
  },
  {
   "cell_type": "code",
   "execution_count": null,
   "id": "d20039ec",
   "metadata": {},
   "outputs": [],
   "source": [
    "def maj_min(s):\n",
    "    pass"
   ]
  },
  {
   "cell_type": "markdown",
   "id": "100af9a2",
   "metadata": {},
   "source": [
    "____\n",
    "**Ecrire une fonction Python qui prend une liste en entrée et retourne une nouvelle liste avec les éléments uniques de la première liste.**\n",
    "\n",
    "    Exemple de liste : [1,1,1,1,2,2,3,3,3,3,4,5]\n",
    "    Liste unique : [1, 2, 3, 4, 5]"
   ]
  },
  {
   "cell_type": "code",
   "execution_count": null,
   "id": "89442b72",
   "metadata": {},
   "outputs": [],
   "source": [
    "def liste_unique(l):\n",
    "    pass"
   ]
  },
  {
   "cell_type": "code",
   "execution_count": null,
   "id": "191fb428",
   "metadata": {},
   "outputs": [],
   "source": [
    "liste_unique([1,1,1,1,2,2,3,3,3,3,4,5])"
   ]
  },
  {
   "cell_type": "markdown",
   "id": "d668e97c",
   "metadata": {},
   "source": [
    "____\n",
    "**Ecrire une fonction Python qui multiplie tous les nombres de la liste.**\n",
    "\n",
    "    Exemple de liste : [1, 2, 3, -4]\n",
    "    Sortie attendue : -24"
   ]
  },
  {
   "cell_type": "code",
   "execution_count": null,
   "id": "62d16192",
   "metadata": {},
   "outputs": [],
   "source": [
    "def multiplie(nombre):  \n",
    "    pass"
   ]
  },
  {
   "cell_type": "code",
   "execution_count": null,
   "id": "d2fd2a29",
   "metadata": {},
   "outputs": [],
   "source": [
    "multiplie([1,2,3,-4])"
   ]
  },
  {
   "cell_type": "markdown",
   "id": "6678dfbf",
   "metadata": {},
   "source": [
    "____\n",
    "**Ecrire une fonction Python qui vérifie si une chaîne passée est un palindrome.**\n",
    "\n",
    "Note: Un palindrome est un mot, une phrase ou une séquence qui se lit vers l'arrière et vers l'avant, par exemple, kayak ou rêver."
   ]
  },
  {
   "cell_type": "code",
   "execution_count": null,
   "id": "3b59e366",
   "metadata": {},
   "outputs": [],
   "source": [
    "def palindrome(s):\n",
    "    pass"
   ]
  },
  {
   "cell_type": "code",
   "execution_count": null,
   "id": "e4960bcb",
   "metadata": {},
   "outputs": [],
   "source": [
    "palindrome('kayak')"
   ]
  },
  {
   "cell_type": "markdown",
   "id": "049a9b41",
   "metadata": {},
   "source": [
    "____\n",
    "**Difficile**:\n",
    "\n",
    "Ecrire une fonction Python pour vérifier si une chaîne est un pangramme.\n",
    "\n",
    "    Note : Un pangramme est une phrase contenant chaque lettre de l'alphabet au moins une fois.\n",
    "    Par exemple : \"Buvez de ce whisky que le patron juge fameux\"\n",
    "\n",
    "Indice : Regardez le module String"
   ]
  },
  {
   "cell_type": "code",
   "execution_count": null,
   "id": "b2025fee",
   "metadata": {},
   "outputs": [],
   "source": [
    "import string\n",
    "\n",
    "def est_un_pangramme(str1, alphabet=string.ascii_lowercase):  \n",
    "    pass"
   ]
  },
  {
   "cell_type": "code",
   "execution_count": null,
   "id": "32b2a951",
   "metadata": {},
   "outputs": [],
   "source": [
    "est_un_pangramme(\"Buvez de ce whisky que le patron juge fameux\")"
   ]
  },
  {
   "cell_type": "code",
   "execution_count": 2,
   "id": "ea8db736",
   "metadata": {},
   "outputs": [
    {
     "data": {
      "text/plain": [
       "'abcdefghijklmnopqrstuvwxyz'"
      ]
     },
     "execution_count": 2,
     "metadata": {},
     "output_type": "execute_result"
    }
   ],
   "source": [
    "string.ascii_lowercase"
   ]
  },
  {
   "cell_type": "code",
   "execution_count": null,
   "id": "6fe1afc2",
   "metadata": {},
   "outputs": [],
   "source": []
  }
 ],
 "metadata": {
  "kernelspec": {
   "display_name": "Python 3",
   "language": "python",
   "name": "python3"
  },
  "language_info": {
   "codemirror_mode": {
    "name": "ipython",
    "version": 3
   },
   "file_extension": ".py",
   "mimetype": "text/x-python",
   "name": "python",
   "nbconvert_exporter": "python",
   "pygments_lexer": "ipython3",
   "version": "3.8.8"
  }
 },
 "nbformat": 4,
 "nbformat_minor": 5
}
